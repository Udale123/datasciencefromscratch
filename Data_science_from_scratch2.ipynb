{
  "nbformat": 4,
  "nbformat_minor": 0,
  "metadata": {
    "colab": {
      "name": "Data-science-from-scratch2",
      "provenance": [],
      "include_colab_link": true
    },
    "kernelspec": {
      "name": "python3",
      "display_name": "Python 3"
    }
  },
  "cells": [
    {
      "cell_type": "markdown",
      "metadata": {
        "id": "view-in-github",
        "colab_type": "text"
      },
      "source": [
        "<a href=\"https://colab.research.google.com/github/Udale123/datasciencefromscratch/blob/master/Data_science_from_scratch2.ipynb\" target=\"_parent\"><img src=\"https://colab.research.google.com/assets/colab-badge.svg\" alt=\"Open In Colab\"/></a>"
      ]
    },
    {
      "cell_type": "markdown",
      "metadata": {
        "id": "IFcbOFfYueKP",
        "colab_type": "text"
      },
      "source": [
        "chapter 2: A Crash Course in Python"
      ]
    },
    {
      "cell_type": "code",
      "metadata": {
        "id": "LpEfhuxAuWqg",
        "colab_type": "code",
        "colab": {
          "base_uri": "https://localhost:8080/",
          "height": 89
        },
        "outputId": "8bda9601-c13b-454e-8f4b-56b86d11835c"
      },
      "source": [
        "for i in [1,2,3]:\n",
        "  print(i)  #use whitespace to show heirarchy\n",
        "print(\"done looping\")"
      ],
      "execution_count": 4,
      "outputs": [
        {
          "output_type": "stream",
          "text": [
            "1\n",
            "2\n",
            "3\n",
            "done looping\n"
          ],
          "name": "stdout"
        }
      ]
    },
    {
      "cell_type": "code",
      "metadata": {
        "id": "ziRXDg10u7v5",
        "colab_type": "code",
        "colab": {}
      },
      "source": [
        "list_of_lists=[[1,2,3],[4,5,6]]\n",
        "easier_to_read_list =[[1,2,3],\n",
        "                      [4,5,6]]"
      ],
      "execution_count": 0,
      "outputs": []
    },
    {
      "cell_type": "code",
      "metadata": {
        "id": "TCHrIYatvlG0",
        "colab_type": "code",
        "colab": {
          "base_uri": "https://localhost:8080/",
          "height": 35
        },
        "outputId": "ba03e8ac-2e00-444d-c208-54eeb38437d9"
      },
      "source": [
        "5/2\n",
        "5//2"
      ],
      "execution_count": 7,
      "outputs": [
        {
          "output_type": "execute_result",
          "data": {
            "text/plain": [
              "2"
            ]
          },
          "metadata": {
            "tags": []
          },
          "execution_count": 7
        }
      ]
    },
    {
      "cell_type": "code",
      "metadata": {
        "id": "yfixpsSavzZ8",
        "colab_type": "code",
        "colab": {
          "base_uri": "https://localhost:8080/",
          "height": 35
        },
        "outputId": "8a4f34ac-d30f-43e0-a8bc-3cb67fe56e0b"
      },
      "source": [
        "#defining functions\n",
        "def double(x):\n",
        "  return x*2\n",
        "double(3)"
      ],
      "execution_count": 9,
      "outputs": [
        {
          "output_type": "execute_result",
          "data": {
            "text/plain": [
              "6"
            ]
          },
          "metadata": {
            "tags": []
          },
          "execution_count": 9
        }
      ]
    },
    {
      "cell_type": "code",
      "metadata": {
        "id": "t7ugCaMBwLdq",
        "colab_type": "code",
        "colab": {
          "base_uri": "https://localhost:8080/",
          "height": 35
        },
        "outputId": "0416ecb9-9d45-4c21-f207-1034163d5e3f"
      },
      "source": [
        "anotherdouble = lambda x: x*2 #not good though, use def\n",
        "anotherdouble(2)"
      ],
      "execution_count": 13,
      "outputs": [
        {
          "output_type": "execute_result",
          "data": {
            "text/plain": [
              "4"
            ]
          },
          "metadata": {
            "tags": []
          },
          "execution_count": 13
        }
      ]
    },
    {
      "cell_type": "code",
      "metadata": {
        "id": "ZjV40WHgxZsw",
        "colab_type": "code",
        "colab": {}
      },
      "source": [
        "#strings can be written using '' or \"\"\n",
        "string1 = 'test'\n",
        "string2 = \"test\""
      ],
      "execution_count": 0,
      "outputs": []
    },
    {
      "cell_type": "code",
      "metadata": {
        "id": "MXb8xjqyxjwH",
        "colab_type": "code",
        "colab": {
          "base_uri": "https://localhost:8080/",
          "height": 35
        },
        "outputId": "4de24258-1b20-456c-ff6f-72180b0e75a6"
      },
      "source": [
        "#exceptions\n",
        "try:\n",
        "  print (0/0)\n",
        "except ZeroDivisionError:\n",
        "  print ('cannot divide by zero')"
      ],
      "execution_count": 16,
      "outputs": [
        {
          "output_type": "stream",
          "text": [
            "cannot divide by zero\n"
          ],
          "name": "stdout"
        }
      ]
    },
    {
      "cell_type": "code",
      "metadata": {
        "id": "mgfFVbBkyE07",
        "colab_type": "code",
        "colab": {
          "base_uri": "https://localhost:8080/",
          "height": 35
        },
        "outputId": "c250cede-bf9d-4511-b2be-9c1822fb46ac"
      },
      "source": [
        "x = list(range(10)) #in python3 range doesnt create a list\n",
        "x\n",
        "x[0] = -1\n",
        "x[:3]"
      ],
      "execution_count": 27,
      "outputs": [
        {
          "output_type": "execute_result",
          "data": {
            "text/plain": [
              "[-1, 1, 2]"
            ]
          },
          "metadata": {
            "tags": []
          },
          "execution_count": 27
        }
      ]
    },
    {
      "cell_type": "code",
      "metadata": {
        "id": "ORwa-oO5y9fT",
        "colab_type": "code",
        "colab": {
          "base_uri": "https://localhost:8080/",
          "height": 71
        },
        "outputId": "acc8dfb8-fe4a-4fa4-ca5a-1dfb95fde10c"
      },
      "source": [
        "#concatenation v addition v append\n",
        "x = list(range(3))\n",
        "x.extend([4,5,6])\n",
        "print(x)\n",
        "y = [1,2,3]\n",
        "z = y + [4,5,6]\n",
        "print(z)\n",
        "y.append(0)\n",
        "print(y)"
      ],
      "execution_count": 30,
      "outputs": [
        {
          "output_type": "stream",
          "text": [
            "[0, 1, 2, 4, 5, 6]\n",
            "[1, 2, 3, 4, 5, 6]\n",
            "[1, 2, 3, 0]\n"
          ],
          "name": "stdout"
        }
      ]
    },
    {
      "cell_type": "code",
      "metadata": {
        "id": "aTrTiuZazuHM",
        "colab_type": "code",
        "colab": {
          "base_uri": "https://localhost:8080/",
          "height": 35
        },
        "outputId": "3fe8c3e3-b5a2-4438-ea46-f183500a0850"
      },
      "source": [
        "#tuples\n",
        "my_list = [1,2,3]\n",
        "my_tuple = (1,2,3)\n",
        "other_tuples = 1,2,3\n",
        "\n",
        "def sumproduct(x,y):\n",
        "  return(x+y),(x*y)\n",
        "\n",
        "s,p = sumproduct(2,3)\n",
        "p"
      ],
      "execution_count": 33,
      "outputs": [
        {
          "output_type": "execute_result",
          "data": {
            "text/plain": [
              "6"
            ]
          },
          "metadata": {
            "tags": []
          },
          "execution_count": 33
        }
      ]
    },
    {
      "cell_type": "code",
      "metadata": {
        "id": "zP4RcHRY0pmn",
        "colab_type": "code",
        "colab": {}
      },
      "source": [
        "#dictionaries\n"
      ],
      "execution_count": 0,
      "outputs": []
    }
  ]
}