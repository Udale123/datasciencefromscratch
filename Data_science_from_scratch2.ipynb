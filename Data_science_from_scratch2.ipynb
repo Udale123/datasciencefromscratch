{
  "nbformat": 4,
  "nbformat_minor": 0,
  "metadata": {
    "colab": {
      "name": "Data-science-from-scratch2",
      "provenance": [],
      "collapsed_sections": [],
      "include_colab_link": true
    },
    "kernelspec": {
      "name": "python3",
      "display_name": "Python 3"
    }
  },
  "cells": [
    {
      "cell_type": "markdown",
      "metadata": {
        "id": "view-in-github",
        "colab_type": "text"
      },
      "source": [
        "<a href=\"https://colab.research.google.com/github/Udale123/datasciencefromscratch/blob/master/Data_science_from_scratch2.ipynb\" target=\"_parent\"><img src=\"https://colab.research.google.com/assets/colab-badge.svg\" alt=\"Open In Colab\"/></a>"
      ]
    },
    {
      "cell_type": "markdown",
      "metadata": {
        "id": "IFcbOFfYueKP",
        "colab_type": "text"
      },
      "source": [
        "chapter 2: A Crash Course in Python"
      ]
    },
    {
      "cell_type": "code",
      "metadata": {
        "id": "LpEfhuxAuWqg",
        "colab_type": "code",
        "outputId": "8bda9601-c13b-454e-8f4b-56b86d11835c",
        "colab": {
          "base_uri": "https://localhost:8080/",
          "height": 89
        }
      },
      "source": [
        "for i in [1,2,3]:\n",
        "  print(i)  #use whitespace to show heirarchy\n",
        "print(\"done looping\")"
      ],
      "execution_count": 0,
      "outputs": [
        {
          "output_type": "stream",
          "text": [
            "1\n",
            "2\n",
            "3\n",
            "done looping\n"
          ],
          "name": "stdout"
        }
      ]
    },
    {
      "cell_type": "code",
      "metadata": {
        "id": "ziRXDg10u7v5",
        "colab_type": "code",
        "colab": {}
      },
      "source": [
        "list_of_lists=[[1,2,3],[4,5,6]]\n",
        "easier_to_read_list =[[1,2,3],\n",
        "                      [4,5,6]]"
      ],
      "execution_count": 0,
      "outputs": []
    },
    {
      "cell_type": "code",
      "metadata": {
        "id": "TCHrIYatvlG0",
        "colab_type": "code",
        "outputId": "ba03e8ac-2e00-444d-c208-54eeb38437d9",
        "colab": {
          "base_uri": "https://localhost:8080/",
          "height": 35
        }
      },
      "source": [
        "5/2\n",
        "5//2"
      ],
      "execution_count": 0,
      "outputs": [
        {
          "output_type": "execute_result",
          "data": {
            "text/plain": [
              "2"
            ]
          },
          "metadata": {
            "tags": []
          },
          "execution_count": 7
        }
      ]
    },
    {
      "cell_type": "code",
      "metadata": {
        "id": "yfixpsSavzZ8",
        "colab_type": "code",
        "outputId": "8a4f34ac-d30f-43e0-a8bc-3cb67fe56e0b",
        "colab": {
          "base_uri": "https://localhost:8080/",
          "height": 35
        }
      },
      "source": [
        "#defining functions\n",
        "def double(x):\n",
        "  return x*2\n",
        "double(3)"
      ],
      "execution_count": 0,
      "outputs": [
        {
          "output_type": "execute_result",
          "data": {
            "text/plain": [
              "6"
            ]
          },
          "metadata": {
            "tags": []
          },
          "execution_count": 9
        }
      ]
    },
    {
      "cell_type": "code",
      "metadata": {
        "id": "t7ugCaMBwLdq",
        "colab_type": "code",
        "outputId": "0416ecb9-9d45-4c21-f207-1034163d5e3f",
        "colab": {
          "base_uri": "https://localhost:8080/",
          "height": 35
        }
      },
      "source": [
        "anotherdouble = lambda x: x*2 #not good though, use def\n",
        "anotherdouble(2)"
      ],
      "execution_count": 0,
      "outputs": [
        {
          "output_type": "execute_result",
          "data": {
            "text/plain": [
              "4"
            ]
          },
          "metadata": {
            "tags": []
          },
          "execution_count": 13
        }
      ]
    },
    {
      "cell_type": "code",
      "metadata": {
        "id": "ZjV40WHgxZsw",
        "colab_type": "code",
        "colab": {}
      },
      "source": [
        "#strings can be written using '' or \"\"\n",
        "string1 = 'test'\n",
        "string2 = \"test\""
      ],
      "execution_count": 0,
      "outputs": []
    },
    {
      "cell_type": "code",
      "metadata": {
        "id": "MXb8xjqyxjwH",
        "colab_type": "code",
        "outputId": "4de24258-1b20-456c-ff6f-72180b0e75a6",
        "colab": {
          "base_uri": "https://localhost:8080/",
          "height": 35
        }
      },
      "source": [
        "#exceptions\n",
        "try:\n",
        "  print (0/0)\n",
        "except ZeroDivisionError:\n",
        "  print ('cannot divide by zero')"
      ],
      "execution_count": 0,
      "outputs": [
        {
          "output_type": "stream",
          "text": [
            "cannot divide by zero\n"
          ],
          "name": "stdout"
        }
      ]
    },
    {
      "cell_type": "code",
      "metadata": {
        "id": "mgfFVbBkyE07",
        "colab_type": "code",
        "outputId": "c250cede-bf9d-4511-b2be-9c1822fb46ac",
        "colab": {
          "base_uri": "https://localhost:8080/",
          "height": 35
        }
      },
      "source": [
        "x = list(range(10)) #in python3 range doesnt create a list\n",
        "x\n",
        "x[0] = -1\n",
        "x[:3]"
      ],
      "execution_count": 0,
      "outputs": [
        {
          "output_type": "execute_result",
          "data": {
            "text/plain": [
              "[-1, 1, 2]"
            ]
          },
          "metadata": {
            "tags": []
          },
          "execution_count": 27
        }
      ]
    },
    {
      "cell_type": "code",
      "metadata": {
        "id": "ORwa-oO5y9fT",
        "colab_type": "code",
        "outputId": "acc8dfb8-fe4a-4fa4-ca5a-1dfb95fde10c",
        "colab": {
          "base_uri": "https://localhost:8080/",
          "height": 71
        }
      },
      "source": [
        "#concatenation v addition v append\n",
        "x = list(range(3))\n",
        "x.extend([4,5,6])\n",
        "print(x)\n",
        "y = [1,2,3]\n",
        "z = y + [4,5,6]\n",
        "print(z)\n",
        "y.append(0)\n",
        "print(y)"
      ],
      "execution_count": 0,
      "outputs": [
        {
          "output_type": "stream",
          "text": [
            "[0, 1, 2, 4, 5, 6]\n",
            "[1, 2, 3, 4, 5, 6]\n",
            "[1, 2, 3, 0]\n"
          ],
          "name": "stdout"
        }
      ]
    },
    {
      "cell_type": "code",
      "metadata": {
        "id": "aTrTiuZazuHM",
        "colab_type": "code",
        "outputId": "3fe8c3e3-b5a2-4438-ea46-f183500a0850",
        "colab": {
          "base_uri": "https://localhost:8080/",
          "height": 35
        }
      },
      "source": [
        "#tuples\n",
        "my_list = [1,2,3]\n",
        "my_tuple = (1,2,3)\n",
        "other_tuples = 1,2,3\n",
        "\n",
        "def sumproduct(x,y):\n",
        "  return(x+y),(x*y)\n",
        "\n",
        "s,p = sumproduct(2,3)\n",
        "p"
      ],
      "execution_count": 0,
      "outputs": [
        {
          "output_type": "execute_result",
          "data": {
            "text/plain": [
              "6"
            ]
          },
          "metadata": {
            "tags": []
          },
          "execution_count": 33
        }
      ]
    },
    {
      "cell_type": "code",
      "metadata": {
        "id": "zP4RcHRY0pmn",
        "colab_type": "code",
        "outputId": "efa1685a-9d0a-4e8f-cd03-13363052bbb3",
        "colab": {
          "base_uri": "https://localhost:8080/",
          "height": 207
        }
      },
      "source": [
        "#dictionaries\n",
        "empty_dict = {}\n",
        "grades = {\"10ma1\":89,\"10ma8\":10}\n",
        "topgrade = grades[\"10ma1\"]\n",
        "grades[\"fail\"]"
      ],
      "execution_count": 0,
      "outputs": [
        {
          "output_type": "error",
          "ename": "KeyError",
          "evalue": "ignored",
          "traceback": [
            "\u001b[0;31m---------------------------------------------------------------------------\u001b[0m",
            "\u001b[0;31mKeyError\u001b[0m                                  Traceback (most recent call last)",
            "\u001b[0;32m<ipython-input-5-41a284644659>\u001b[0m in \u001b[0;36m<module>\u001b[0;34m()\u001b[0m\n\u001b[1;32m      2\u001b[0m \u001b[0mgrades\u001b[0m \u001b[0;34m=\u001b[0m \u001b[0;34m{\u001b[0m\u001b[0;34m\"10ma1\"\u001b[0m\u001b[0;34m:\u001b[0m\u001b[0;36m89\u001b[0m\u001b[0;34m,\u001b[0m\u001b[0;34m\"10ma8\"\u001b[0m\u001b[0;34m:\u001b[0m\u001b[0;36m10\u001b[0m\u001b[0;34m}\u001b[0m\u001b[0;34m\u001b[0m\u001b[0;34m\u001b[0m\u001b[0m\n\u001b[1;32m      3\u001b[0m \u001b[0mtopgrade\u001b[0m \u001b[0;34m=\u001b[0m \u001b[0mgrades\u001b[0m\u001b[0;34m[\u001b[0m\u001b[0;34m\"10ma1\"\u001b[0m\u001b[0;34m]\u001b[0m\u001b[0;34m\u001b[0m\u001b[0;34m\u001b[0m\u001b[0m\n\u001b[0;32m----> 4\u001b[0;31m \u001b[0mgrades\u001b[0m\u001b[0;34m[\u001b[0m\u001b[0;34m\"fail\"\u001b[0m\u001b[0;34m]\u001b[0m\u001b[0;34m\u001b[0m\u001b[0;34m\u001b[0m\u001b[0m\n\u001b[0m",
            "\u001b[0;31mKeyError\u001b[0m: 'fail'"
          ]
        }
      ]
    },
    {
      "cell_type": "code",
      "metadata": {
        "id": "ZHNOoMJrn1vB",
        "colab_type": "code",
        "colab": {}
      },
      "source": [
        "word_counts{}\n",
        "for word in document:\n",
        "  if word in word_counts:\n",
        "    word_counts[word] += 1\n",
        "  else:\n",
        "    word_counts[words] = 1\n",
        "#word counts using dictionaries"
      ],
      "execution_count": 0,
      "outputs": []
    },
    {
      "cell_type": "code",
      "metadata": {
        "id": "PWpeplfKoohu",
        "colab_type": "code",
        "colab": {}
      },
      "source": [
        "from collections import defaultdict\n",
        "\n",
        "word_counts = defaultdict(int)\n",
        "for word in document:\n",
        "  word_counts[word] += 1\n",
        "  "
      ],
      "execution_count": 0,
      "outputs": []
    },
    {
      "cell_type": "code",
      "metadata": {
        "id": "MSc7YvLMpLx5",
        "colab_type": "code",
        "outputId": "8dc6fddd-8f60-486a-f228-6fd5435428a8",
        "colab": {
          "base_uri": "https://localhost:8080/",
          "height": 35
        }
      },
      "source": [
        "from collections import Counter\n",
        "c = Counter([0,1,2,0])\n",
        "c\n",
        "#counter is an easy function for counting instances in a list\n",
        "#it can use a method mostcommon to get the most common items and their counts"
      ],
      "execution_count": 0,
      "outputs": [
        {
          "output_type": "execute_result",
          "data": {
            "text/plain": [
              "Counter({0: 2, 1: 1, 2: 1})"
            ]
          },
          "metadata": {
            "tags": []
          },
          "execution_count": 7
        }
      ]
    },
    {
      "cell_type": "code",
      "metadata": {
        "id": "PXCt8idiptc7",
        "colab_type": "code",
        "colab": {}
      },
      "source": [
        "#Sets are the 4th type of data structure. We will use them much less frequently than lists, tuples and dictionaries\n",
        "s = set()\n",
        "s.add(1)\n",
        "s\n",
        "#useful for finding distinct elements in a set.\n",
        "#eg\n",
        "item_list = [1,2,3,1,2,3]\n",
        "num_items = len(item_list)\n",
        "item_set = set(item_list)\n",
        "item_set"
      ],
      "execution_count": 0,
      "outputs": []
    },
    {
      "cell_type": "code",
      "metadata": {
        "id": "XP0YtOmXqiwR",
        "colab_type": "code",
        "outputId": "77bd2ba4-a10f-4267-a497-b0c7831d55ef",
        "colab": {
          "base_uri": "https://localhost:8080/",
          "height": 197
        }
      },
      "source": [
        "#Control flow (if, while, tenary if, for in, continue, break)\n",
        "\n",
        "#if\n",
        "if 1>2:\n",
        "  message = \"if only 1 were greater than 2\"\n",
        "elif 1>3:\n",
        "  message = \"elif stands for else if\"\n",
        "else:\n",
        "  message = \"else is for if nothing else works\"\n",
        "print(message)\n",
        "\n",
        "#ternary if\n",
        "parity = \"even\" if 4 % 2 == 0 else \"odd\"\n",
        "print(parity)\n",
        "\n",
        "#while\n",
        "x=0\n",
        "while x<2:\n",
        "  print(x,\"is less than 2\")\n",
        "  x +=1\n",
        "\n",
        "#for in\n",
        "for x in range(2):\n",
        "  print(x,\"is less than 2\")\n",
        "\n",
        "#continue,break\n",
        "for x in range (10):\n",
        "  if x==3:\n",
        "    continue\n",
        "  if x==5:\n",
        "    break\n",
        "  print(x)\n"
      ],
      "execution_count": 0,
      "outputs": [
        {
          "output_type": "stream",
          "text": [
            "else is for if nothing else works\n",
            "even\n",
            "0 is less than 2\n",
            "1 is less than 2\n",
            "0 is less than 2\n",
            "1 is less than 2\n",
            "0\n",
            "1\n",
            "2\n",
            "4\n"
          ],
          "name": "stdout"
        }
      ]
    },
    {
      "cell_type": "code",
      "metadata": {
        "id": "U0lytz6FsX4q",
        "colab_type": "code",
        "outputId": "d53520a9-98cb-4f3d-8ae2-e8593995bdc7",
        "colab": {
          "base_uri": "https://localhost:8080/",
          "height": 35
        }
      },
      "source": [
        "#sorting\n",
        "x = [4,2,3,1]\n",
        "y = sorted(x)\n",
        "y"
      ],
      "execution_count": 0,
      "outputs": [
        {
          "output_type": "execute_result",
          "data": {
            "text/plain": [
              "[1, 2, 3, 4]"
            ]
          },
          "metadata": {
            "tags": []
          },
          "execution_count": 16
        }
      ]
    },
    {
      "cell_type": "code",
      "metadata": {
        "id": "q20WQ_UGs0eF",
        "colab_type": "code",
        "outputId": "dceb1c17-eee3-4e3a-d833-8ac8180113b0",
        "colab": {
          "base_uri": "https://localhost:8080/",
          "height": 35
        }
      },
      "source": [
        "#list comprehensions\n",
        "even_numbers = [x for x in range(5) if x % 2 == 0]\n",
        "even_squares = [x*x for x in even_numbers]\n",
        "even_squares\n",
        "zeros = [0 for _ in even_numbers]\n",
        "zeros\n",
        "#These are very important!"
      ],
      "execution_count": 0,
      "outputs": [
        {
          "output_type": "execute_result",
          "data": {
            "text/plain": [
              "[0, 0, 0]"
            ]
          },
          "metadata": {
            "tags": []
          },
          "execution_count": 3
        }
      ]
    },
    {
      "cell_type": "code",
      "metadata": {
        "id": "KYMegt_ZT8K6",
        "colab_type": "code",
        "colab": {}
      },
      "source": [
        "#random numbers\n",
        "import random\n",
        "#uniform(0,1)\n",
        "random.random()\n",
        "#discrete uniform\n",
        "random.randrange(10)\n",
        "x = list(range(10))\n",
        "random.shuffle(x)\n",
        "print(x)\n",
        "random.choice(x)\n",
        "#without replacement use random.sample\n",
        "#with replacement use random.choice multiple times"
      ],
      "execution_count": 0,
      "outputs": []
    },
    {
      "cell_type": "code",
      "metadata": {
        "id": "jx6DBWPQWXPi",
        "colab_type": "code",
        "colab": {
          "base_uri": "https://localhost:8080/",
          "height": 35
        },
        "outputId": "3620804b-25be-4548-ba06-322f1a70c70f"
      },
      "source": [
        "#regular expressions\n",
        "import re\n",
        "\n",
        "print(all([\n",
        "           not re.match(\"a\",\"cat\"),\n",
        "           re.search(\"a\",\"cat\"),\n",
        "           not re.search(\"c\",\"dog\"),\n",
        "           3 == len(re.split(\"[ab]\",\"carbs\")),\n",
        "           \"R-D-\" == re.sub(\"[0-9]\",\"-\",\"R2D2\")\n",
        "]))"
      ],
      "execution_count": 1,
      "outputs": [
        {
          "output_type": "stream",
          "text": [
            "True\n"
          ],
          "name": "stdout"
        }
      ]
    },
    {
      "cell_type": "code",
      "metadata": {
        "id": "HyQzqSmIeb-x",
        "colab_type": "code",
        "colab": {
          "base_uri": "https://localhost:8080/",
          "height": 35
        },
        "outputId": "50235a28-9029-42f4-b3c4-b3f78142d5e9"
      },
      "source": [
        "#object-orientated programming\n",
        "#can create own classes\n",
        "class Set:\n",
        "  def __init__(self, values=None):\n",
        "    self.dict = {}\n",
        "    if values is not None:\n",
        "      for value in values:\n",
        "        self.add(value)\n",
        "  \n",
        "  def __repr__(self):\n",
        "    return \"Set:\" + str(self.dict.keys())\n",
        "  \n",
        "  def add(self,value):\n",
        "    self.dict[value] = True\n",
        "  \n",
        "  def contains(self, value):\n",
        "    return value in self.dict\n",
        "  \n",
        "  def remove(self, value):\n",
        "    del self.dict[value]\n",
        "\n",
        "s = Set([1,2])\n",
        "s.add(4)\n",
        "s.contains(4)\n"
      ],
      "execution_count": 11,
      "outputs": [
        {
          "output_type": "execute_result",
          "data": {
            "text/plain": [
              "True"
            ]
          },
          "metadata": {
            "tags": []
          },
          "execution_count": 11
        }
      ]
    },
    {
      "cell_type": "code",
      "metadata": {
        "id": "P3J4sezsguav",
        "colab_type": "code",
        "colab": {
          "base_uri": "https://localhost:8080/",
          "height": 71
        },
        "outputId": "5b788318-d6bc-407d-dcc8-c4e4c0e50f04"
      },
      "source": [
        "#Functional Tools\n",
        "#This is about partially applying functions (fixing one of the values)\n",
        "#e.g\n",
        "def exp(base, power):\n",
        "  return base ** power\n",
        "\n",
        "def two_to_the(power):\n",
        "  return exp(power,2)\n",
        "\n",
        "#Or can achieve the same result using functools.partial\n",
        "from functools import partial\n",
        "two_to_the = partial(exp,2)\n",
        "print(two_to_the(4))\n",
        "\n",
        "#use map to map functions onto a list\n",
        "xs = [1,2,3]\n",
        "print(list(map(two_to_the,xs)))\n",
        "\n",
        "def is_odd(x):\n",
        "  return x % 2 == 1\n",
        "\n",
        "#does the same thing using filter\n",
        "x_odds = [x for x in xs if is_odd(x)]\n",
        "x_odds = filter(is_odd,xs)\n",
        "list(x_odds)\n"
      ],
      "execution_count": 25,
      "outputs": [
        {
          "output_type": "stream",
          "text": [
            "16\n",
            "[2, 4, 8]\n"
          ],
          "name": "stdout"
        },
        {
          "output_type": "execute_result",
          "data": {
            "text/plain": [
              "[1, 3]"
            ]
          },
          "metadata": {
            "tags": []
          },
          "execution_count": 25
        }
      ]
    },
    {
      "cell_type": "code",
      "metadata": {
        "id": "dtevUxhsjw5S",
        "colab_type": "code",
        "colab": {}
      },
      "source": [
        "#Enumerate\n",
        "#\n",
        "for i,document in enumerate(documents):\n",
        "  do_something(i, document)\n",
        "\n",
        "for i,_ in enumerate(documents): do_something(i)"
      ],
      "execution_count": 0,
      "outputs": []
    },
    {
      "cell_type": "code",
      "metadata": {
        "id": "Og6zkh3LkbhG",
        "colab_type": "code",
        "colab": {
          "base_uri": "https://localhost:8080/",
          "height": 35
        },
        "outputId": "524c5d2a-d7b3-4dde-ce00-58022f57fa46"
      },
      "source": [
        "#zip and argument unlocking. For combining and uncombining lists into list of tuples\n",
        "list1 = [\"a\",\"b\",\"c\"]\n",
        "list2 = [1,2,3]\n",
        "list(zip(*list(zip(list1,list2))))\n",
        "\n",
        "#args and kwargs\n",
        "def doubler(f):\n",
        "  def g(x):\n",
        "    return 2*f(x)\n",
        "  return(g)\n",
        "\n",
        "def f1(x):\n",
        "  return x+1\n",
        "\n",
        "g = doubler(f1)\n",
        "print(g(3))\n",
        "\n",
        "\n"
      ],
      "execution_count": 29,
      "outputs": [
        {
          "output_type": "stream",
          "text": [
            "8\n"
          ],
          "name": "stdout"
        }
      ]
    },
    {
      "cell_type": "markdown",
      "metadata": {
        "id": "_0j-UMfrl1Mu",
        "colab_type": "text"
      },
      "source": [
        "There was some stuff about higher order functions, we will come back to this when it is needed."
      ]
    }
  ]
}