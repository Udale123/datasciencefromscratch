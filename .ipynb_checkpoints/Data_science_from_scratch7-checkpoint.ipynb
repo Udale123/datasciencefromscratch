{
 "cells": [
  {
   "cell_type": "raw",
   "metadata": {},
   "source": [
    "Hypothesis testing and inference Chapter 7"
   ]
  },
  {
   "cell_type": "code",
   "execution_count": 164,
   "metadata": {},
   "outputs": [
    {
     "data": {
      "text/plain": [
       "'Accept H0'"
      ]
     },
     "execution_count": 164,
     "metadata": {},
     "output_type": "execute_result"
    }
   ],
   "source": [
    "import math\n",
    "from matplotlib import pyplot as plt\n",
    "import random\n",
    "import numpy as np\n",
    "import scipy.stats as s\n",
    "\n",
    "s.norm.rvs(5,100)\n",
    "s.norm.rvs(size=5)\n",
    "\n",
    "s.binom.rvs(5,0.3,size=3)\n",
    "\n",
    "s.norm.ppf(0.7)\n",
    "\n",
    "\n",
    "#binomial approximation to normal\n",
    "def binomial_to_normal(n,p):\n",
    "    return n*p,math.sqrt(n*p*(1-p))\n",
    "\n",
    "\n",
    "\n",
    "#critical region using cdf.\n",
    "def critical_region(mu=0,sigma=1,alpha=0.05,tails=1,end=0):\n",
    "    if tails ==1 and end == 1:\n",
    "        return [-float('inf'),s.norm.ppf(1-alpha,mu,sigma)]\n",
    "    elif tails ==1 and end ==0:\n",
    "        return [s.norm.ppf(alpha,mu,sigma),float('inf')]\n",
    "    else:\n",
    "        return [s.norm.ppf(alpha/2,mu,sigma),s.norm.ppf(1-alpha/2,mu,sigma)]\n",
    "    \n",
    "\n",
    "#example hypothesis test one tailed test at 20%\n",
    "mu,sigma = binomial_to_normal(10000,0.2)\n",
    "x = norm.rvs(mu,sigma)\n",
    "\n",
    "def hypothesis_test(x,mu=0,sigma=1,alpha=0.05,tails=1,end=0):\n",
    "    if x < critical_region(mu,sigma,alpha,tails,end)[0] or x > critical_region(mu,sigma,alpha,tails,end)[1]:\n",
    "        return 'Reject H0'\n",
    "    else:\n",
    "        return 'Accept H0'\n",
    "\n"
   ]
  },
  {
   "cell_type": "raw",
   "metadata": {},
   "source": [
    "Confidence intervals"
   ]
  },
  {
   "cell_type": "code",
   "execution_count": 180,
   "metadata": {},
   "outputs": [
    {
     "data": {
      "text/plain": [
       "[0.4940490098153452, 0.5559509901846548]"
      ]
     },
     "execution_count": 180,
     "metadata": {},
     "output_type": "execute_result"
    }
   ],
   "source": [
    "#returns a symmetrical confidence interval for a normal distribution.\n",
    "def confidence_interval(mu,sigma,confidence):\n",
    "    return critical_region(mu,sigma,1-confidence,2)\n",
    "\n",
    "\n",
    "#example - coin flipping\n",
    "heads = 525\n",
    "trials = 1000\n",
    "p_hat = heads/trials\n",
    "sigmatrial = math.sqrt(p_hat*(1-p_hat)/1000)\n",
    "\n",
    "confidence_interval(p_hat,sigmatrial,0.95)"
   ]
  },
  {
   "cell_type": "raw",
   "metadata": {},
   "source": [
    "Cheating A-B testing: should be using t- distribution since we will estimate from the data but life is too short"
   ]
  },
  {
   "cell_type": "code",
   "execution_count": 197,
   "metadata": {},
   "outputs": [
    {
     "data": {
      "text/plain": [
       "'Reject H0'"
      ]
     },
     "execution_count": 197,
     "metadata": {},
     "output_type": "execute_result"
    }
   ],
   "source": [
    "nx = 1000\n",
    "x = 200\n",
    "x_hat = x/nx\n",
    "ny=1000\n",
    "y = 150\n",
    "y_hat = y/ny\n",
    "\n",
    "sigma_estimate = math.sqrt(y_hat*(1-y_hat)/ny + x_hat*(1-x_hat)/nx)\n",
    "test_statistic = x_hat-y_hat\n",
    "\n",
    "hypothesis_test(test_statistic,0,sigma_estimate,0.05,tails=2)"
   ]
  },
  {
   "cell_type": "raw",
   "metadata": {},
   "source": [
    "Bayesian Inference\n",
    "I am going to use the example of a binomial distribution, we will be using a beta distribution as the prior for this cause conjugate life. Actually I will come back to this in another book/ time."
   ]
  }
 ],
 "metadata": {
  "kernelspec": {
   "display_name": "Python 3",
   "language": "python",
   "name": "python3"
  },
  "language_info": {
   "codemirror_mode": {
    "name": "ipython",
    "version": 3
   },
   "file_extension": ".py",
   "mimetype": "text/x-python",
   "name": "python",
   "nbconvert_exporter": "python",
   "pygments_lexer": "ipython3",
   "version": "3.7.3"
  }
 },
 "nbformat": 4,
 "nbformat_minor": 2
}
