{
 "cells": [
  {
   "cell_type": "markdown",
   "metadata": {
    "colab_type": "text",
    "id": "view-in-github"
   },
   "source": [
    "<a href=\"https://colab.research.google.com/github/Udale123/datasciencefromscratch/blob/master/Data_science_from_scratch6.ipynb\" target=\"_parent\"><img src=\"https://colab.research.google.com/assets/colab-badge.svg\" alt=\"Open In Colab\"/></a>"
   ]
  },
  {
   "cell_type": "markdown",
   "metadata": {
    "colab_type": "text",
    "id": "Z10c5-i__2rU"
   },
   "source": [
    "This chapter is an introduction to probability using python.\n",
    "\n"
   ]
  },
  {
   "cell_type": "code",
   "execution_count": 2,
   "metadata": {},
   "outputs": [
    {
     "name": "stdout",
     "output_type": "stream",
     "text": [
      "P(both|older): 0.5007089325501317\n",
      "P(bother|either): 0.3311897106109325\n"
     ]
    }
   ],
   "source": [
    "import random\n",
    "\n",
    "#testing the classic boy girl problem\n",
    "def random_kid():\n",
    "    return random.choice(['boy','girl'])\n",
    "\n",
    "both_girls = 0\n",
    "older_girl = 0 \n",
    "either_girl = 0\n",
    "\n",
    "random.seed(0)\n",
    "for _ in range(10000):\n",
    "    younger = random_kid()\n",
    "    older = random_kid()\n",
    "    if older == 'girl':\n",
    "        older_girl +=1\n",
    "    if older == 'girl' and younger =='girl':\n",
    "        both_girls +=1\n",
    "    if older =='girl' or younger =='girl':\n",
    "        either_girl +=1\n",
    "print('P(both|older):',both_girls/older_girl)\n",
    "print('P(bother|either):',both_girls/either_girl)\n"
   ]
  },
  {
   "cell_type": "raw",
   "metadata": {},
   "source": [
    "We will define distributions using pdf and cdf"
   ]
  },
  {
   "cell_type": "code",
   "execution_count": 19,
   "metadata": {},
   "outputs": [
    {
     "data": {
      "image/png": "[encoded data removed]",
      "text/plain": [
       "<Figure size 432x288 with 1 Axes>"
      ]
     },
     "metadata": {
      "needs_background": "light"
     },
     "output_type": "display_data"
    }
   ],
   "source": [
    "def uniform_pdf(x):\n",
    "    return 1 if x>=0 and x<1 else 0\n",
    "\n",
    "def uniform_cdf(x):\n",
    "    if x>=0 and x<1: return x\n",
    "    elif x>=1: return 1\n",
    "    else: return 0\n",
    "\n",
    "import math\n",
    "def normal_pdf(x,mu=0,sigma=1):\n",
    "    return 1/math.sqrt(2*math.pi*sigma**2)*math.exp((-(x-mu)**2)/(2*sigma**2))\n",
    "\n",
    "from matplotlib import pyplot as plt\n",
    "xs = [x/10.0 for x in range(-50,50)]\n",
    "plt.plot(xs,[normal_pdf(x) for x in xs],'g:')\n",
    "plt.plot(xs,[normal_pdf(x,0,2) for x in xs],'b-')\n",
    "plt.plot(xs,[normal_pdf(x,0,0.5) for x in xs],'r--')\n",
    "plt.title('Normal PDF')\n",
    "plt.show()\n",
    "    "
   ]
  },
  {
   "cell_type": "code",
   "execution_count": 22,
   "metadata": {},
   "outputs": [
    {
     "data": {
      "text/plain": [
       "1.0"
      ]
     },
     "execution_count": 22,
     "metadata": {},
     "output_type": "execute_result"
    }
   ],
   "source": [
    "def normal_cdf(x,mu=0,sigma=1):\n",
    "    return (1+math.erf(x-mu)/math.sqrt(2)/sigma)\n",
    "\n",
    "normal_cdf(0)"
   ]
  },
  {
   "cell_type": "code",
   "execution_count": 31,
   "metadata": {},
   "outputs": [
    {
     "data": {
      "text/plain": [
       "1"
      ]
     },
     "execution_count": 31,
     "metadata": {},
     "output_type": "execute_result"
    }
   ],
   "source": [
    "def bernoulli_trial(p):\n",
    "    return 1 if random.random() < p else 0\n",
    "\n",
    "def binomial(n,p):\n",
    "    return sum([bernoulli_trial(p) for _ in range(n)])\n",
    "\n",
    "binomial(5,0.2)\n",
    "binomial(5,0.2)"
   ]
  },
  {
   "cell_type": "code",
   "execution_count": 33,
   "metadata": {},
   "outputs": [
    {
     "data": {
      "text/plain": [
       "0.19536681481316456"
      ]
     },
     "execution_count": 33,
     "metadata": {},
     "output_type": "execute_result"
    }
   ],
   "source": [
    "def poisson_pmf(x,mu=1):\n",
    "    return math.exp(-mu)*mu**x/math.factorial(x) if x>=0 else 0\n",
    "\n",
    "poisson_pmf(4,4)\n",
    "    "
   ]
  },
  {
   "cell_type": "raw",
   "metadata": {},
   "source": [
    "Scipy-stats contains other probability distributions"
   ]
  }
 ],
 "metadata": {
  "colab": {
   "include_colab_link": true,
   "name": "Data_science_from_scratch6",
   "provenance": []
  },
  "kernelspec": {
   "display_name": "Python 3",
   "language": "python",
   "name": "python3"
  },
  "language_info": {
   "codemirror_mode": {
    "name": "ipython",
    "version": 3
   },
   "file_extension": ".py",
   "mimetype": "text/x-python",
   "name": "python",
   "nbconvert_exporter": "python",
   "pygments_lexer": "ipython3",
   "version": "3.7.3"
  }
 },
 "nbformat": 4,
 "nbformat_minor": 1
}
