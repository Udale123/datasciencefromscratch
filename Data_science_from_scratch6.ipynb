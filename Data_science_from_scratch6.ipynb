{
  "cells": [
    {
      "metadata": {
        "id": "view-in-github",
        "colab_type": "text"
      },
      "cell_type": "markdown",
      "source": "<a href=\"https://colab.research.google.com/github/Udale123/datasciencefromscratch/blob/master/Data_science_from_scratch6.ipynb\" target=\"_parent\"><img src=\"https://colab.research.google.com/assets/colab-badge.svg\" alt=\"Open In Colab\"/></a>"
    },
    {
      "metadata": {
        "id": "Z10c5-i__2rU",
        "colab_type": "text"
      },
      "cell_type": "markdown",
      "source": "This chapter is an introduction to probability using python. I am testing commiting\n\n"
    }
  ],
  "metadata": {
    "colab": {
      "name": "Data_science_from_scratch6",
      "provenance": [],
      "include_colab_link": true
    },
    "kernelspec": {
      "name": "python3",
      "display_name": "Python 3",
      "language": "python"
    },
    "language_info": {
      "mimetype": "text/x-python",
      "nbconvert_exporter": "python",
      "name": "python",
      "file_extension": ".py",
      "version": "3.5.4",
      "pygments_lexer": "ipython3",
      "codemirror_mode": {
        "version": 3,
        "name": "ipython"
      }
    }
  },
  "nbformat": 4,
  "nbformat_minor": 1
}