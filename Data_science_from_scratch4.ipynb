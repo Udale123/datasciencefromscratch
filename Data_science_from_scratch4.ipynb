{
  "nbformat": 4,
  "nbformat_minor": 0,
  "metadata": {
    "colab": {
      "name": "Data_science_from_scratch4",
      "provenance": [],
      "include_colab_link": true
    },
    "kernelspec": {
      "name": "python3",
      "display_name": "Python 3"
    }
  },
  "cells": [
    {
      "cell_type": "markdown",
      "metadata": {
        "id": "view-in-github",
        "colab_type": "text"
      },
      "source": [
        "<a href=\"https://colab.research.google.com/github/Udale123/datasciencefromscratch/blob/master/Data_science_from_scratch4.ipynb\" target=\"_parent\"><img src=\"https://colab.research.google.com/assets/colab-badge.svg\" alt=\"Open In Colab\"/></a>"
      ]
    },
    {
      "cell_type": "markdown",
      "metadata": {
        "id": "h8wkCtr6zcC1",
        "colab_type": "text"
      },
      "source": [
        "This Chapter is on Linear Algebra in Python\n",
        "We will be building vector arithmetic from \"scratch\""
      ]
    },
    {
      "cell_type": "code",
      "metadata": {
        "id": "bUgbr2c-zX4D",
        "colab_type": "code",
        "colab": {}
      },
      "source": [
        "def vector_add(v,w):\n",
        "  return [v_i+w_i for v_i,w_i in zip(v,w)]\n",
        "\n",
        "def vector_subtract(v,w):\n",
        "  return [v_i-w_i for v_i,w_i in zip(v,w)]\n",
        "\n",
        "def vector_sum(vectors):\n",
        "  result = vectors[0]\n",
        "  for vector in vectors[1:]:\n",
        "    result = vector_add(vector,result)\n",
        "  return result\n",
        "\n",
        "from functools import reduce\n",
        "def vector_sum(vectors):\n",
        "  return reduce(vector_add, vectors)\n",
        "\n",
        "def scalar_multiply(c,v):\n",
        "  return [c*v_i for v_i in v]\n",
        "\n",
        "def vector_mean(vectors):\n",
        "  return scalar_multiply(1/len(vectors),vector_sum(vectors))\n",
        "\n",
        "def dot_product(v,w):\n",
        "  return sum([v_i*w_i for v_i,w_i in zip(v,w)])\n",
        "\n",
        "def sum_of_squares(v):\n",
        "  return dot_product(v,v)\n",
        "\n",
        "import math\n",
        "def vector_magnitude(v):\n",
        "  return math.sqrt(sum_of_squares(v))\n",
        "\n",
        "def squared_distance(v,w):\n",
        "  return math.sqrt(sum_of_squares(vector_subtract(v,w)))\n",
        "def squared_distance(v,w):\n",
        "  return vector_magnitude(vector_subtract(v,w))\n"
      ],
      "execution_count": 0,
      "outputs": []
    },
    {
      "cell_type": "markdown",
      "metadata": {
        "id": "uCY0oeAjnp4O",
        "colab_type": "text"
      },
      "source": [
        "In reality we would use Numpy which is much more efficient than using lists as vectors..."
      ]
    },
    {
      "cell_type": "code",
      "metadata": {
        "id": "qXwVWvLdn0W9",
        "colab_type": "code",
        "colab": {
          "base_uri": "https://localhost:8080/",
          "height": 35
        },
        "outputId": "00810131-aed0-4aa5-e2ff-a171b85ea35a"
      },
      "source": [
        "#Example Matrix:\n",
        "A = [[1,2,3],\n",
        "     [3,4,5]]\n",
        "\n",
        "def shape(A):\n",
        "  num_rows = len(A)\n",
        "  num_cols = len(A[0])\n",
        "  return num_rows,num_cols\n",
        "\n",
        "def get_row(A,i):\n",
        "  return A[i]\n",
        "\n",
        "def get_col(A,j):\n",
        "  return [A_i[j] for A_i in A]\n",
        "\n",
        "def make_matrix(num_rows,num_cols,entry_fn):\n",
        "  return [entry_fn(i,j) for i in range(num_rows) for j in range(num_cols)]\n",
        "\n",
        "def fi(i,j):\n",
        "  return i+j\n",
        "\n",
        "make_matrix(2,2,fi)\n"
      ],
      "execution_count": 29,
      "outputs": [
        {
          "output_type": "execute_result",
          "data": {
            "text/plain": [
              "[0, 1, 1, 2]"
            ]
          },
          "metadata": {
            "tags": []
          },
          "execution_count": 29
        }
      ]
    },
    {
      "cell_type": "markdown",
      "metadata": {
        "id": "n9TnqW-CpojU",
        "colab_type": "text"
      },
      "source": [
        "We could have done all of this with Numpy too.\n"
      ]
    }
  ]
}