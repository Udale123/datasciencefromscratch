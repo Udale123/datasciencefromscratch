{
  "cells": [
    {
      "metadata": {
        "id": "view-in-github",
        "colab_type": "text"
      },
      "cell_type": "markdown",
      "source": "<a href=\"https://colab.research.google.com/github/Udale123/datasciencefromscratch/blob/master/Data_science_from_scratch5.ipynb\" target=\"_parent\"><img src=\"https://colab.research.google.com/assets/colab-badge.svg\" alt=\"Open In Colab\"/></a>"
    },
    {
      "metadata": {
        "id": "JPV-NSwlp-UN",
        "colab_type": "text"
      },
      "cell_type": "markdown",
      "source": "This chapter is an introduction to statistics in python"
    },
    {
      "metadata": {
        "id": "UD79ezj-rLDT",
        "colab_type": "code",
        "outputId": "f28b13e2-3086-4b02-c5e8-0a1be833fb18",
        "colab": {
          "base_uri": "https://localhost:8080/",
          "height": 269
        },
        "trusted": true
      },
      "cell_type": "code",
      "source": "import random\nfrom collections import Counter\nfrom matplotlib import pyplot as plt\nrandom.seed(10)\nA = [random.choice(range(100)) for i in range(300)]\nFriend_counts = Counter(A)\nxs = range(100)\nys = [Friend_counts[x] for x in xs]\nplt.bar(xs,ys)\nplt.axis([0,100,0,8])\nplt.show()",
      "execution_count": 6,
      "outputs": [
        {
          "output_type": "display_data",
          "data": {
            "image/png": "[encoded data removed]",
            "text/plain": "<matplotlib.figure.Figure at 0x7ff864921c18>"
          },
          "metadata": {}
        }
      ]
    },
    {
      "metadata": {
        "id": "OXHJGKQR1Ohi",
        "colab_type": "text"
      },
      "cell_type": "markdown",
      "source": "These are measures of centricity:\n*   Mean\n*   Median\n*   Quantiles\n*   Mode"
    },
    {
      "metadata": {
        "id": "T6PGaD_ksCWe",
        "colab_type": "code",
        "colab": {},
        "trusted": true
      },
      "cell_type": "code",
      "source": "def mean(A):\n  return sum(A)/len(A)\n\nmean(A)\n\ndef median(A):\n  sortedA = sorted(A)\n  test = len(A)\n  if test % 2 == 0:\n    return mean([sortedA[int(test/2)],sortedA[int(test/2+1)]])\n  else:\n    return sortedA[int((test+1)/2)]\n\ndef quantiles(A,p):\n  p_index = int(p*len(A))\n  return sorted(A)[p_index]\n\ndef mode(A):\n  counts = Counter(A)\n  print(counts)\n  max_count = max(counts.values())\n  print(max_count)\n  return [x for x,count in counts.items() if count == max_count]\n\n\n",
      "execution_count": 7,
      "outputs": []
    },
    {
      "metadata": {
        "id": "mCuqXZAn1Zms",
        "colab_type": "text"
      },
      "cell_type": "markdown",
      "source": "These are measures of dispersion:\n*   Range\n*   Variance\n*   Standard Devation\n*   IQR\n"
    },
    {
      "metadata": {
        "id": "N07U1gMY2IYc",
        "colab_type": "code",
        "outputId": "d796e98e-26f0-49a1-ada5-401d933061dd",
        "colab": {
          "base_uri": "https://localhost:8080/",
          "height": 71
        },
        "trusted": true
      },
      "cell_type": "code",
      "source": "def range_list(A):\n  return max(A)-min(A)\n\ndef variance(A):\n  n = len(A)\n  sum_of_squares = sum([i**2 for i in A])\n  return (sum_of_squares/(n)- mean(A)**2)*(n/(n-1))\nprint(variance(A))\ndef variance(A):\n  x_bar = mean(A)\n  sum_of_squared_differences = sum([(i-x_bar)**2 for i in A])\n  return sum_of_squared_differences/(len(A)-1)\nprint(variance(A))\n\nimport math\ndef std_dev(A):\n  return math.sqrt(variance(A))\n\ndef IQR(A):\n  return quantiles(A,0.75)-quantiles(A,0.25)\n\nIQR(A)",
      "execution_count": 8,
      "outputs": [
        {
          "output_type": "stream",
          "text": "739.0340691192868\n739.0340691192863\n",
          "name": "stdout"
        },
        {
          "output_type": "execute_result",
          "execution_count": 8,
          "data": {
            "text/plain": "44"
          },
          "metadata": {}
        }
      ]
    },
    {
      "metadata": {
        "id": "LXT-u16b51MG",
        "colab_type": "text"
      },
      "cell_type": "markdown",
      "source": "Correlation"
    },
    {
      "metadata": {
        "id": "4-XM-c9F53FA",
        "colab_type": "code",
        "outputId": "6dcd527d-c001-40b6-aaca-6349f5b2e942",
        "colab": {
          "base_uri": "https://localhost:8080/",
          "height": 35
        },
        "trusted": true
      },
      "cell_type": "code",
      "source": "def covariance(x,y):\n  return (sum([v_i*w_i for v_i,w_i in zip(x,y)])/len(x)-mean(x)*mean(y))*(len(x)/(len(x)-1))\n\ncovariance(A,A)\n\ndef correlation(x,y):\n  xsd = std_dev(x)\n  ysd = std_dev(y)\n  if xsd > 0 and ysd >0:\n    return covariance(x,y)/(std_dev(x)*std_dev(y))\n  else:\n    return 0\n\ncorrelation(A,A)",
      "execution_count": 9,
      "outputs": [
        {
          "output_type": "execute_result",
          "execution_count": 9,
          "data": {
            "text/plain": "1.0000000000000007"
          },
          "metadata": {}
        }
      ]
    },
    {
      "metadata": {
        "id": "FBu5hxmD_T1R",
        "colab_type": "text"
      },
      "cell_type": "markdown",
      "source": "Other packages we could have used are:\n\nScipy\n\npandas\n\nStatsmodels\n"
    }
  ],
  "metadata": {
    "colab": {
      "name": "Data_science_from_scratch5",
      "provenance": [],
      "collapsed_sections": [],
      "include_colab_link": true
    },
    "kernelspec": {
      "name": "python3",
      "display_name": "Python 3",
      "language": "python"
    },
    "language_info": {
      "mimetype": "text/x-python",
      "nbconvert_exporter": "python",
      "name": "python",
      "pygments_lexer": "ipython3",
      "version": "3.5.4",
      "file_extension": ".py",
      "codemirror_mode": {
        "version": 3,
        "name": "ipython"
      }
    }
  },
  "nbformat": 4,
  "nbformat_minor": 1
}