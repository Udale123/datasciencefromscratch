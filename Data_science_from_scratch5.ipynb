{
  "nbformat": 4,
  "nbformat_minor": 0,
  "metadata": {
    "colab": {
      "name": "Data_science_from_scratch5",
      "provenance": [],
      "collapsed_sections": [],
      "include_colab_link": true
    },
    "kernelspec": {
      "name": "python3",
      "display_name": "Python 3"
    }
  },
  "cells": [
    {
      "cell_type": "markdown",
      "metadata": {
        "id": "view-in-github",
        "colab_type": "text"
      },
      "source": [
        "<a href=\"https://colab.research.google.com/github/Udale123/datasciencefromscratch/blob/master/Data_science_from_scratch5.ipynb\" target=\"_parent\"><img src=\"https://colab.research.google.com/assets/colab-badge.svg\" alt=\"Open In Colab\"/></a>"
      ]
    },
    {
      "cell_type": "markdown",
      "metadata": {
        "id": "JPV-NSwlp-UN",
        "colab_type": "text"
      },
      "source": [
        "This chapter is an introduction to statistics in python"
      ]
    },
    {
      "cell_type": "code",
      "metadata": {
        "id": "UD79ezj-rLDT",
        "colab_type": "code",
        "outputId": "f28b13e2-3086-4b02-c5e8-0a1be833fb18",
        "colab": {
          "base_uri": "https://localhost:8080/",
          "height": 269
        }
      },
      "source": [
        "import random\n",
        "from collections import Counter\n",
        "from matplotlib import pyplot as plt\n",
        "random.seed(10)\n",
        "A = [random.choice(range(100)) for i in range(300)]\n",
        "Friend_counts = Counter(A)\n",
        "xs = range(100)\n",
        "ys = [Friend_counts[x] for x in xs]\n",
        "plt.bar(xs,ys)\n",
        "plt.axis([0,100,0,8])\n",
        "plt.show()"
      ],
      "execution_count": 9,
      "outputs": [
        {
          "output_type": "display_data",
          "data": {
            "image/png": "[encoded data removed]",
            "text/plain": [
              "<Figure size 432x288 with 1 Axes>"
            ]
          },
          "metadata": {
            "tags": []
          }
        }
      ]
    },
    {
      "cell_type": "markdown",
      "metadata": {
        "id": "OXHJGKQR1Ohi",
        "colab_type": "text"
      },
      "source": [
        "These are measures of centricity:\n",
        "*   Mean\n",
        "*   Median\n",
        "*   Quantiles\n",
        "*   Mode"
      ]
    },
    {
      "cell_type": "code",
      "metadata": {
        "id": "T6PGaD_ksCWe",
        "colab_type": "code",
        "colab": {}
      },
      "source": [
        "def mean(A):\n",
        "  return sum(A)/len(A)\n",
        "\n",
        "mean(A)\n",
        "\n",
        "def median(A):\n",
        "  sortedA = sorted(A)\n",
        "  test = len(A)\n",
        "  if test % 2 == 0:\n",
        "    return mean([sortedA[int(test/2)],sortedA[int(test/2+1)]])\n",
        "  else:\n",
        "    return sortedA[int((test+1)/2)]\n",
        "\n",
        "def quantiles(A,p):\n",
        "  p_index = int(p*len(A))\n",
        "  return sorted(A)[p_index]\n",
        "\n",
        "def mode(A):\n",
        "  counts = Counter(A)\n",
        "  print(counts)\n",
        "  max_count = max(counts.values())\n",
        "  print(max_count)\n",
        "  return [x for x,count in counts.items() if count == max_count]\n",
        "\n",
        "\n"
      ],
      "execution_count": 0,
      "outputs": []
    },
    {
      "cell_type": "markdown",
      "metadata": {
        "id": "mCuqXZAn1Zms",
        "colab_type": "text"
      },
      "source": [
        "These are measures of dispersion:\n",
        "*   Range\n",
        "*   Variance\n",
        "*   Standard Devation\n",
        "*   IQR\n"
      ]
    },
    {
      "cell_type": "code",
      "metadata": {
        "id": "N07U1gMY2IYc",
        "colab_type": "code",
        "outputId": "d796e98e-26f0-49a1-ada5-401d933061dd",
        "colab": {
          "base_uri": "https://localhost:8080/",
          "height": 71
        }
      },
      "source": [
        "def range_list(A):\n",
        "  return max(A)-min(A)\n",
        "\n",
        "def variance(A):\n",
        "  n = len(A)\n",
        "  sum_of_squares = sum([i**2 for i in A])\n",
        "  return (sum_of_squares/(n)- mean(A)**2)*(n/(n-1))\n",
        "print(variance(A))\n",
        "def variance(A):\n",
        "  x_bar = mean(A)\n",
        "  sum_of_squared_differences = sum([(i-x_bar)**2 for i in A])\n",
        "  return sum_of_squared_differences/(len(A)-1)\n",
        "print(variance(A))\n",
        "\n",
        "import math\n",
        "def std_dev(A):\n",
        "  return math.sqrt(variance(A))\n",
        "\n",
        "def IQR(A):\n",
        "  return quantiles(A,0.75)-quantiles(A,0.25)\n",
        "\n",
        "IQR(A)"
      ],
      "execution_count": 20,
      "outputs": [
        {
          "output_type": "stream",
          "text": [
            "739.0340691192868\n",
            "739.0340691192863\n"
          ],
          "name": "stdout"
        },
        {
          "output_type": "execute_result",
          "data": {
            "text/plain": [
              "44"
            ]
          },
          "metadata": {
            "tags": []
          },
          "execution_count": 20
        }
      ]
    },
    {
      "cell_type": "markdown",
      "metadata": {
        "id": "LXT-u16b51MG",
        "colab_type": "text"
      },
      "source": [
        "Correlation"
      ]
    },
    {
      "cell_type": "code",
      "metadata": {
        "id": "4-XM-c9F53FA",
        "colab_type": "code",
        "outputId": "6dcd527d-c001-40b6-aaca-6349f5b2e942",
        "colab": {
          "base_uri": "https://localhost:8080/",
          "height": 35
        }
      },
      "source": [
        "def covariance(x,y):\n",
        "  return (sum([v_i*w_i for v_i,w_i in zip(x,y)])/len(x)-mean(x)*mean(y))*(len(x)/(len(x)-1))\n",
        "\n",
        "covariance(A,A)\n",
        "\n",
        "def correlation(x,y):\n",
        "  xsd = std_dev(x)\n",
        "  ysd = std_dev(y)\n",
        "  if xsd > 0 and ysd >0:\n",
        "    return covariance(x,y)/(std_dev(x)*std_dev(y))\n",
        "  else:\n",
        "    return 0\n",
        "\n",
        "correlation(A,A)"
      ],
      "execution_count": 24,
      "outputs": [
        {
          "output_type": "execute_result",
          "data": {
            "text/plain": [
              "1.0000000000000007"
            ]
          },
          "metadata": {
            "tags": []
          },
          "execution_count": 24
        }
      ]
    },
    {
      "cell_type": "markdown",
      "metadata": {
        "id": "FBu5hxmD_T1R",
        "colab_type": "text"
      },
      "source": [
        "Other packages we could have used are:\n",
        "\n",
        "Scipy\n",
        "\n",
        "pandas\n",
        "\n",
        "Statsmodels\n"
      ]
    }
  ]
}